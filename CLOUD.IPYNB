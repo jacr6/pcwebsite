{
 "cells": [
  {
   "attachments": {},
   "cell_type": "markdown",
   "metadata": {},
   "source": [
    "# DOCKER BUILD"
   ]
  },
  {
   "cell_type": "code",
   "execution_count": 1,
   "metadata": {
    "vscode": {
     "languageId": "shellscript"
    }
   },
   "outputs": [
    {
     "name": "stderr",
     "output_type": "stream",
     "text": [
      "#0 building with \"default\" instance using docker driver\n",
      "\n",
      "#1 [internal] load build definition from Dockerfile\n",
      "#1 transferring dockerfile:\n",
      "#1 transferring dockerfile: 94B 0.0s done\n",
      "#1 DONE 0.1s\n",
      "\n",
      "#2 [internal] load .dockerignore\n",
      "#2 transferring context: 2B done\n",
      "#2 DONE 0.1s\n",
      "\n",
      "#3 [internal] load metadata for docker.io/trafex/php-nginx:latest\n",
      "#3 DONE 1.6s\n",
      "\n",
      "#4 [internal] load build context\n",
      "#4 DONE 0.0s\n",
      "\n",
      "#5 [1/2] FROM docker.io/trafex/php-nginx@sha256:000cbef1b3e5a23ced3db629d611b0377353beeb628fff2c5210ff1034d15818\n",
      "#5 resolve docker.io/trafex/php-nginx@sha256:000cbef1b3e5a23ced3db629d611b0377353beeb628fff2c5210ff1034d15818 0.0s done\n",
      "#5 sha256:0c7046d5cbf1421bd425b245bd135a7fe33f5da7d5eb19a3205299d27eac69fb 4.64kB / 4.64kB done\n",
      "#5 sha256:62c56bfa67153e0af1596016b7d34117caf4cc067c95533eb2e125486ea12180 0B / 131B 0.1s\n",
      "#5 sha256:d25d9a20156afb500d44a1cc23e6996648c0f244f0da644b792d56379a4f965a 0B / 38.63MB 0.1s\n",
      "#5 sha256:000cbef1b3e5a23ced3db629d611b0377353beeb628fff2c5210ff1034d15818 3.16kB / 3.16kB done\n",
      "#5 sha256:3085c93c0fdb7a83b4d447799a77abbc1e462c8034588835c1ab17989f1ebb5d 2.18kB / 2.18kB done\n",
      "#5 ...\n",
      "\n",
      "#4 [internal] load build context\n",
      "#4 transferring context: 2.93MB 0.3s done\n",
      "#4 DONE 0.3s\n",
      "\n",
      "#5 [1/2] FROM docker.io/trafex/php-nginx@sha256:000cbef1b3e5a23ced3db629d611b0377353beeb628fff2c5210ff1034d15818\n",
      "#5 sha256:09353ef9258cc5a0b43934316892e13efc2d1df37edc2b79ddfea2736a43fff1 0B / 780B 0.2s\n",
      "#5 extracting sha256:62c56bfa67153e0af1596016b7d34117caf4cc067c95533eb2e125486ea12180 0.0s done\n",
      "#5 sha256:62c56bfa67153e0af1596016b7d34117caf4cc067c95533eb2e125486ea12180 131B / 131B 0.2s done\n",
      "#5 sha256:4a7e0eed4ab3b36aca5a84496d5bc2aebfaff2ed32901b0cff57cb9bfd18e340 0B / 844B 0.4s\n",
      "#5 sha256:09353ef9258cc5a0b43934316892e13efc2d1df37edc2b79ddfea2736a43fff1 780B / 780B 0.6s done\n",
      "#5 sha256:4a7e0eed4ab3b36aca5a84496d5bc2aebfaff2ed32901b0cff57cb9bfd18e340 844B / 844B 0.6s done\n",
      "#5 sha256:b96b6f3f316cadb3bb94fe7641c5285737bc8f239f417b44f180d1877726c210 0B / 1.15kB 0.6s\n",
      "#5 sha256:5af79f59cc1031fb90b1f223990a8d23807b881418da6ca8e156fe049d2b68ee 0B / 228B 0.7s\n",
      "#5 sha256:b96b6f3f316cadb3bb94fe7641c5285737bc8f239f417b44f180d1877726c210 1.15kB / 1.15kB 0.9s done\n",
      "#5 sha256:5af79f59cc1031fb90b1f223990a8d23807b881418da6ca8e156fe049d2b68ee 228B / 228B 0.9s done\n",
      "#5 sha256:21c4d6b7da249c8b1350686bd46b507a2432ab648224aa1d13bca4b13aa8678f 0B / 954B 1.0s\n",
      "#5 sha256:1cbfc35722e13e939ac298ab2e96284e929b039db31ce4ed9db6d3009be36769 0B / 338B 1.0s\n",
      "#5 sha256:d25d9a20156afb500d44a1cc23e6996648c0f244f0da644b792d56379a4f965a 2.10MB / 38.63MB 1.3s\n",
      "#5 sha256:21c4d6b7da249c8b1350686bd46b507a2432ab648224aa1d13bca4b13aa8678f 954B / 954B 1.2s done\n",
      "#5 sha256:1cbfc35722e13e939ac298ab2e96284e929b039db31ce4ed9db6d3009be36769 338B / 338B 1.2s done\n",
      "#5 sha256:d6992ce9bedfcc28eee43bbf0644b153349f6f65387b81bdc79f462428973d5f 0B / 267B 1.3s\n",
      "#5 sha256:d6992ce9bedfcc28eee43bbf0644b153349f6f65387b81bdc79f462428973d5f 267B / 267B 1.6s done\n",
      "#5 sha256:d25d9a20156afb500d44a1cc23e6996648c0f244f0da644b792d56379a4f965a 4.19MB / 38.63MB 1.9s\n",
      "#5 sha256:d25d9a20156afb500d44a1cc23e6996648c0f244f0da644b792d56379a4f965a 6.29MB / 38.63MB 2.6s\n",
      "#5 sha256:d25d9a20156afb500d44a1cc23e6996648c0f244f0da644b792d56379a4f965a 8.39MB / 38.63MB 3.2s\n",
      "#5 sha256:d25d9a20156afb500d44a1cc23e6996648c0f244f0da644b792d56379a4f965a 10.49MB / 38.63MB 3.9s\n",
      "#5 sha256:d25d9a20156afb500d44a1cc23e6996648c0f244f0da644b792d56379a4f965a 12.58MB / 38.63MB 4.6s\n",
      "#5 sha256:d25d9a20156afb500d44a1cc23e6996648c0f244f0da644b792d56379a4f965a 14.68MB / 38.63MB 5.0s\n",
      "#5 sha256:d25d9a20156afb500d44a1cc23e6996648c0f244f0da644b792d56379a4f965a 16.78MB / 38.63MB 5.7s\n",
      "#5 sha256:d25d9a20156afb500d44a1cc23e6996648c0f244f0da644b792d56379a4f965a 18.87MB / 38.63MB 6.3s\n",
      "#5 sha256:d25d9a20156afb500d44a1cc23e6996648c0f244f0da644b792d56379a4f965a 20.97MB / 38.63MB 6.9s\n",
      "#5 sha256:d25d9a20156afb500d44a1cc23e6996648c0f244f0da644b792d56379a4f965a 23.07MB / 38.63MB 7.5s\n",
      "#5 sha256:d25d9a20156afb500d44a1cc23e6996648c0f244f0da644b792d56379a4f965a 25.17MB / 38.63MB 8.1s\n",
      "#5 sha256:d25d9a20156afb500d44a1cc23e6996648c0f244f0da644b792d56379a4f965a 27.26MB / 38.63MB 8.8s\n",
      "#5 sha256:d25d9a20156afb500d44a1cc23e6996648c0f244f0da644b792d56379a4f965a 29.36MB / 38.63MB 9.3s\n",
      "#5 sha256:d25d9a20156afb500d44a1cc23e6996648c0f244f0da644b792d56379a4f965a 31.46MB / 38.63MB 9.9s\n",
      "#5 sha256:d25d9a20156afb500d44a1cc23e6996648c0f244f0da644b792d56379a4f965a 33.55MB / 38.63MB 10.5s\n",
      "#5 sha256:d25d9a20156afb500d44a1cc23e6996648c0f244f0da644b792d56379a4f965a 35.65MB / 38.63MB 11.4s\n",
      "#5 sha256:d25d9a20156afb500d44a1cc23e6996648c0f244f0da644b792d56379a4f965a 37.75MB / 38.63MB 11.8s\n",
      "#5 sha256:d25d9a20156afb500d44a1cc23e6996648c0f244f0da644b792d56379a4f965a 38.63MB / 38.63MB 12.1s done\n",
      "#5 extracting sha256:d25d9a20156afb500d44a1cc23e6996648c0f244f0da644b792d56379a4f965a\n",
      "#5 extracting sha256:d25d9a20156afb500d44a1cc23e6996648c0f244f0da644b792d56379a4f965a 2.0s done\n",
      "#5 extracting sha256:09353ef9258cc5a0b43934316892e13efc2d1df37edc2b79ddfea2736a43fff1 done\n",
      "#5 extracting sha256:4a7e0eed4ab3b36aca5a84496d5bc2aebfaff2ed32901b0cff57cb9bfd18e340 done\n",
      "#5 extracting sha256:b96b6f3f316cadb3bb94fe7641c5285737bc8f239f417b44f180d1877726c210 done\n",
      "#5 extracting sha256:5af79f59cc1031fb90b1f223990a8d23807b881418da6ca8e156fe049d2b68ee\n",
      "#5 extracting sha256:5af79f59cc1031fb90b1f223990a8d23807b881418da6ca8e156fe049d2b68ee done\n",
      "#5 extracting sha256:1cbfc35722e13e939ac298ab2e96284e929b039db31ce4ed9db6d3009be36769 done\n",
      "#5 extracting sha256:21c4d6b7da249c8b1350686bd46b507a2432ab648224aa1d13bca4b13aa8678f done\n",
      "#5 extracting sha256:d6992ce9bedfcc28eee43bbf0644b153349f6f65387b81bdc79f462428973d5f done\n",
      "#5 DONE 14.7s\n",
      "\n",
      "#6 [2/2] COPY . /var/www/html/\n",
      "#6 DONE 0.2s\n",
      "\n",
      "#7 exporting to image\n",
      "#7 exporting layers 0.1s done\n",
      "#7 writing image sha256:ff0029a49620124f52c9f9e4235b61fa75c9f98f87a2ddfb071c7c6c39ed22fd done\n",
      "#7 naming to docker.io/library/powercloud_web:main done\n",
      "#7 DONE 0.1s\n",
      "\n",
      "What's Next?\n",
      "  View summary of image vulnerabilities and recommendations → docker scout quickview\n"
     ]
    }
   ],
   "source": [
    "!docker build -f Dockerfile -t powercloud_web:main .      "
   ]
  },
  {
   "cell_type": "code",
   "execution_count": 2,
   "metadata": {
    "vscode": {
     "languageId": "shellscript"
    }
   },
   "outputs": [],
   "source": [
    "!docker tag powercloud_web:main server.powercloud.services:5000/powercloud_web:main"
   ]
  },
  {
   "attachments": {},
   "cell_type": "markdown",
   "metadata": {},
   "source": [
    "# DOCKER PUSH"
   ]
  },
  {
   "cell_type": "code",
   "execution_count": 3,
   "metadata": {
    "vscode": {
     "languageId": "shellscript"
    }
   },
   "outputs": [
    {
     "name": "stdout",
     "output_type": "stream",
     "text": [
      "The push refers to repository [server.powercloud.services:5000/powercloud_web]\n",
      "d6af968e9705: Preparing\n",
      "20e06ea4ba12: Preparing\n",
      "ceb3f3a89375: Preparing\n",
      "bd7b3ab195a8: Preparing\n",
      "b59889e6d08a: Preparing\n",
      "0e0e9b24af50: Preparing\n",
      "ea0462473253: Preparing\n",
      "7482460874d3: Preparing\n",
      "bdbfc325dd27: Preparing\n",
      "24a519a78394: Preparing\n",
      "78a822fe2a2d: Preparing\n",
      "ea0462473253: Waiting\n",
      "7482460874d3: Waiting\n",
      "bdbfc325dd27: Waiting\n",
      "24a519a78394: Waiting\n",
      "78a822fe2a2d: Waiting\n",
      "0e0e9b24af50: Waiting\n",
      "b59889e6d08a: Pushed\n",
      "ceb3f3a89375: Pushed\n",
      "20e06ea4ba12: Pushed\n",
      "bd7b3ab195a8: Pushed\n",
      "0e0e9b24af50: Pushed\n",
      "ea0462473253: Pushed\n",
      "78a822fe2a2d: Layer already exists\n",
      "7482460874d3: Pushed\n",
      "d6af968e9705: Pushed\n",
      "24a519a78394: Pushed\n",
      "bdbfc325dd27: Pushed\n",
      "main: digest: sha256:3d4162e32b5cb749c6d9ba87b8157f6e15c5b9a46af93fd0387ff258400a9f98 size: 2608\n"
     ]
    }
   ],
   "source": [
    "!docker push server.powercloud.services:5000/powercloud_web:main"
   ]
  },
  {
   "attachments": {},
   "cell_type": "markdown",
   "metadata": {},
   "source": [
    "# DEPLOY"
   ]
  },
  {
   "cell_type": "code",
   "execution_count": 4,
   "metadata": {
    "vscode": {
     "languageId": "shellscript"
    }
   },
   "outputs": [
    {
     "name": "stdout",
     "output_type": "stream",
     "text": [
      "powercloud-web\n",
      "Deleted Images:\n",
      "untagged: server.powercloud.services:5000/powercloud_web:main\n",
      "untagged: server.powercloud.services:5000/powercloud_web@sha256:aa587fcc4c72d7d564506bd4b4b23647bb3aaa31abac5a06d1ed2d9adc1ab200\n",
      "deleted: sha256:0f4f24f20f2bcb96eb7a3518680d3a949d6c997cdcf8288b61d117836bc6b6c6\n",
      "deleted: sha256:b7c0f8f07a96c9e63062298f27cdb0780127f8bb204e036226e6f9f33b214b68\n",
      "deleted: sha256:b2fefd85ef3230f70df71f5c35f90bf9dfad9d6eb568a8d5001ef2ae9f25fb5f\n",
      "deleted: sha256:b678e6ea593e248b44fb5637d81aa2a0c3b53ab08fd84bbcfe7562b5765e01ef\n",
      "deleted: sha256:14f1ab11f4e14d0cdfdfe6de6fd194d40963a3b2d2cc895d2cd9f2d81c4fb90b\n",
      "deleted: sha256:4e49e51510900be111a996e6daf74f426b2fff5c97477b4fd38049440afacc4a\n",
      "deleted: sha256:65efa4d071e3e9b63716b7a2c4cc33c70d390677cd1cc9ae98f8babf0ec2b6be\n",
      "deleted: sha256:2fd7c048afd8de3994ecf6ac32b200bbb59a50e6c1e23405f6b773879bc11a20\n",
      "deleted: sha256:aa14183e95368363fe40f090243349af1758ee3869d93b582e2892b5515f81be\n",
      "deleted: sha256:d0ccbcc042b4ba85db0b327c9702eef030d1d821761cd77e673f43065790f63e\n",
      "deleted: sha256:4cd97c732f2d5f8701c4311d6879a45411a7efff3d0f771f9dab93bb3865772d\n",
      "deleted: sha256:78a822fe2a2d2c84f3de4a403188c45f623017d6a4521d23047c9fbb0801794c\n",
      "\n",
      "Total reclaimed space: 114.7MB\n"
     ]
    }
   ],
   "source": [
    "!ssh root@server.powercloud.services -p9876 \"docker rm --force powercloud-web\"\n",
    "!ssh root@server.powercloud.services -p9876 \"docker image prune -f -a\"\n"
   ]
  },
  {
   "cell_type": "code",
   "execution_count": 5,
   "metadata": {
    "vscode": {
     "languageId": "shellscript"
    }
   },
   "outputs": [
    {
     "name": "stdout",
     "output_type": "stream",
     "text": [
      "f6576331e451cab4929737435adb666875aeaf5edb054cfe449f500c32f7d74c\n"
     ]
    },
    {
     "name": "stderr",
     "output_type": "stream",
     "text": [
      "Unable to find image 'server.powercloud.services:5000/powercloud_web:main' locally\n",
      "main: Pulling from powercloud_web\n",
      "31e352740f53: Pulling fs layer\n",
      "62c56bfa6715: Pulling fs layer\n",
      "d25d9a20156a: Pulling fs layer\n",
      "09353ef9258c: Pulling fs layer\n",
      "4a7e0eed4ab3: Pulling fs layer\n",
      "b96b6f3f316c: Pulling fs layer\n",
      "5af79f59cc10: Pulling fs layer\n",
      "1cbfc35722e1: Pulling fs layer\n",
      "21c4d6b7da24: Pulling fs layer\n",
      "d6992ce9bedf: Pulling fs layer\n",
      "5cd8d85ee392: Pulling fs layer\n",
      "b96b6f3f316c: Waiting\n",
      "d6992ce9bedf: Waiting\n",
      "5cd8d85ee392: Waiting\n",
      "09353ef9258c: Waiting\n",
      "4a7e0eed4ab3: Waiting\n",
      "5af79f59cc10: Waiting\n",
      "1cbfc35722e1: Waiting\n",
      "21c4d6b7da24: Waiting\n",
      "62c56bfa6715: Verifying Checksum\n",
      "62c56bfa6715: Download complete\n",
      "09353ef9258c: Verifying Checksum\n",
      "09353ef9258c: Download complete\n",
      "4a7e0eed4ab3: Verifying Checksum\n",
      "4a7e0eed4ab3: Download complete\n",
      "b96b6f3f316c: Verifying Checksum\n",
      "b96b6f3f316c: Download complete\n",
      "5af79f59cc10: Verifying Checksum\n",
      "5af79f59cc10: Download complete\n",
      "1cbfc35722e1: Verifying Checksum\n",
      "1cbfc35722e1: Download complete\n",
      "21c4d6b7da24: Verifying Checksum\n",
      "21c4d6b7da24: Download complete\n",
      "31e352740f53: Verifying Checksum\n",
      "31e352740f53: Download complete\n",
      "d6992ce9bedf: Verifying Checksum\n",
      "d6992ce9bedf: Download complete\n",
      "5cd8d85ee392: Verifying Checksum\n",
      "5cd8d85ee392: Download complete\n",
      "31e352740f53: Pull complete\n",
      "d25d9a20156a: Verifying Checksum\n",
      "d25d9a20156a: Download complete\n",
      "62c56bfa6715: Pull complete\n",
      "d25d9a20156a: Pull complete\n",
      "09353ef9258c: Pull complete\n",
      "4a7e0eed4ab3: Pull complete\n",
      "b96b6f3f316c: Pull complete\n",
      "5af79f59cc10: Pull complete\n",
      "1cbfc35722e1: Pull complete\n",
      "21c4d6b7da24: Pull complete\n",
      "d6992ce9bedf: Pull complete\n",
      "5cd8d85ee392: Pull complete\n",
      "Digest: sha256:3d4162e32b5cb749c6d9ba87b8157f6e15c5b9a46af93fd0387ff258400a9f98\n",
      "Status: Downloaded newer image for server.powercloud.services:5000/powercloud_web:main\n"
     ]
    }
   ],
   "source": [
    "!ssh root@server.powercloud.services -p9876 \"docker run -d  --restart unless-stopped --name powercloud-web -p7526:8080  server.powercloud.services:5000/powercloud_web:main\""
   ]
  },
  {
   "attachments": {},
   "cell_type": "markdown",
   "metadata": {},
   "source": []
  }
 ],
 "metadata": {
  "kernelspec": {
   "display_name": "Python 3",
   "language": "python",
   "name": "python3"
  },
  "language_info": {
   "codemirror_mode": {
    "name": "ipython",
    "version": 3
   },
   "file_extension": ".py",
   "mimetype": "text/x-python",
   "name": "python",
   "nbconvert_exporter": "python",
   "pygments_lexer": "ipython3",
   "version": "3.10.11"
  },
  "orig_nbformat": 4,
  "vscode": {
   "interpreter": {
    "hash": "f7ad495907005254c8dcaf4e090ce97f62bc92379230cfe15a6ea347c63deb27"
   }
  }
 },
 "nbformat": 4,
 "nbformat_minor": 2
}
