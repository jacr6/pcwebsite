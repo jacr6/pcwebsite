{
 "cells": [
  {
   "attachments": {},
   "cell_type": "markdown",
   "metadata": {},
   "source": [
    "# DOCKER BUILD"
   ]
  },
  {
   "cell_type": "code",
   "execution_count": 6,
   "metadata": {
    "vscode": {
     "languageId": "shellscript"
    }
   },
   "outputs": [
    {
     "name": "stderr",
     "output_type": "stream",
     "text": [
      "2023/12/13 12:23:42 http2: server: error reading preface from client //./pipe/docker_engine: file has already been closed\n",
      "#0 building with \"default\" instance using docker driver\n",
      "\n",
      "#1 [internal] load .dockerignore\n",
      "#1 transferring context: 2B done\n",
      "#1 DONE 0.0s\n",
      "\n",
      "#2 [internal] load build definition from Dockerfile\n",
      "#2 transferring dockerfile: 94B done\n",
      "#2 DONE 0.0s\n",
      "\n",
      "#3 [internal] load metadata for docker.io/trafex/php-nginx:latest\n",
      "#3 DONE 0.4s\n",
      "\n",
      "#4 [1/2] FROM docker.io/trafex/php-nginx@sha256:25d47dcadb053ea4af0640885913ce9819728a6980dced4158f7c025a5ee1a67\n",
      "#4 DONE 0.0s\n",
      "\n",
      "#5 [internal] load build context\n",
      "#5 transferring context: 25.89kB 0.1s done\n",
      "#5 DONE 0.1s\n",
      "\n",
      "#4 [1/2] FROM docker.io/trafex/php-nginx@sha256:25d47dcadb053ea4af0640885913ce9819728a6980dced4158f7c025a5ee1a67\n",
      "#4 CACHED\n",
      "\n",
      "#6 [2/2] COPY . /var/www/html/\n",
      "#6 DONE 0.1s\n",
      "\n",
      "#7 exporting to image\n",
      "#7 exporting layers 0.1s done\n",
      "#7 writing image sha256:9068f156c56bcf27878933c79fab3dfefc87d549752102c246ca2f150d5130f1 done\n",
      "#7 naming to docker.io/library/powercloud_web:main done\n",
      "#7 DONE 0.1s\n",
      "\n",
      "What's Next?\n",
      "  View a summary of image vulnerabilities and recommendations → docker scout quickview\n"
     ]
    }
   ],
   "source": [
    "!docker build -f Dockerfile -t powercloud_web:main .      "
   ]
  },
  {
   "cell_type": "code",
   "execution_count": 7,
   "metadata": {
    "vscode": {
     "languageId": "shellscript"
    }
   },
   "outputs": [],
   "source": [
    "!docker tag powercloud_web:main server.powercloud.services:5000/powercloud_web:main"
   ]
  },
  {
   "attachments": {},
   "cell_type": "markdown",
   "metadata": {},
   "source": [
    "# DOCKER PUSH"
   ]
  },
  {
   "cell_type": "code",
   "execution_count": 8,
   "metadata": {
    "vscode": {
     "languageId": "shellscript"
    }
   },
   "outputs": [
    {
     "name": "stdout",
     "output_type": "stream",
     "text": [
      "The push refers to repository [server.powercloud.services:5000/powercloud_web]\n",
      "023c24cf5e53: Preparing\n",
      "0241b08848e8: Preparing\n",
      "95fdff445fe5: Preparing\n",
      "91c4d8293283: Preparing\n",
      "e7fe5bd4100f: Preparing\n",
      "eef4c34725a6: Preparing\n",
      "8100c89d5c8b: Preparing\n",
      "1a2e222318a8: Preparing\n",
      "3cd5f0004e56: Preparing\n",
      "369ca8c60fdc: Preparing\n",
      "97409c43ab23: Preparing\n",
      "9fe9a137fd00: Preparing\n",
      "1a2e222318a8: Waiting\n",
      "3cd5f0004e56: Waiting\n",
      "369ca8c60fdc: Waiting\n",
      "97409c43ab23: Waiting\n",
      "9fe9a137fd00: Waiting\n",
      "8100c89d5c8b: Waiting\n",
      "eef4c34725a6: Waiting\n",
      "0241b08848e8: Layer already exists\n",
      "95fdff445fe5: Layer already exists\n",
      "e7fe5bd4100f: Layer already exists\n",
      "91c4d8293283: Layer already exists\n",
      "eef4c34725a6: Layer already exists\n",
      "8100c89d5c8b: Layer already exists\n",
      "3cd5f0004e56: Layer already exists\n",
      "1a2e222318a8: Layer already exists\n",
      "369ca8c60fdc: Layer already exists\n",
      "97409c43ab23: Layer already exists\n",
      "9fe9a137fd00: Layer already exists\n",
      "023c24cf5e53: Pushed\n",
      "main: digest: sha256:ce3d2cb285bb4593de76b1025e6b2e3aec114f99e4d9ca330d9beea1f648bd0c size: 2815\n"
     ]
    }
   ],
   "source": [
    "!docker push server.powercloud.services:5000/powercloud_web:main"
   ]
  },
  {
   "attachments": {},
   "cell_type": "markdown",
   "metadata": {},
   "source": [
    "# DEPLOY"
   ]
  },
  {
   "cell_type": "markdown",
   "metadata": {},
   "source": []
  },
  {
   "cell_type": "code",
   "execution_count": 9,
   "metadata": {
    "vscode": {
     "languageId": "shellscript"
    }
   },
   "outputs": [
    {
     "name": "stdout",
     "output_type": "stream",
     "text": [
      "powercloud-web\n",
      "Deleted Images:\n",
      "untagged: server.powercloud.services:5000/powercloud_web:main\n",
      "untagged: server.powercloud.services:5000/powercloud_web@sha256:140ac8eaf10d413c0662d54869f5d1a35b9a93e78ec80d4352e0d6a9f659797c\n",
      "deleted: sha256:3e54f28accbbe62fe48d5b3719429cd7304b66c915e3ad1b3f5fd455b91555da\n",
      "deleted: sha256:12b77ed861e1c7397c54d840bc0bf1f9cf26d47b7d48e3e33b6dc44bb760ac3c\n",
      "deleted: sha256:40476dc879194fa0e71ff4e777ea572e8c030c65c604b5b1de8810faadc43f8d\n",
      "deleted: sha256:dc6d6b1c860c99ca569ae3ef3ba4d819575bda2d91504333dbf9c5ffd995814e\n",
      "deleted: sha256:1fe4380b2d6e85d1962aa473371ef210f8c2951cb384e26b8dcbad4531ab0d4d\n",
      "deleted: sha256:e13a147ec79fb945e13a0a12463d6610376ea9cb1144b14d880f0c4df45690ed\n",
      "deleted: sha256:0e64981afdfdfc5633ec04ba2891512ee7295f2904304450e812585b86073140\n",
      "deleted: sha256:4a14f0593a13f9fe42401160c14eefb264ce380f60a250e21bcbbfa11046b9ad\n",
      "deleted: sha256:bd083541f0bd24e73d7264e6ed4ecc2d71812594b64b102e24dd596074eebced\n",
      "deleted: sha256:7a83bdcef86895fb704eef011c190b8486f6a5a78434fb6f4668b7705d8e8a2a\n",
      "deleted: sha256:ef025c248999adb17847303ac5f81ad5c938cbe673cb62612e8d3bed6a71bbec\n",
      "deleted: sha256:9259e9f30b1a6e4c96c9e96c42346427648b9ef5e0a436e8c7f62ce543b6a579\n",
      "deleted: sha256:9fe9a137fd002363ac64f5af66146702432b638a83ee0c5b620c40a9e433e813\n",
      "\n",
      "Total reclaimed space: 122.9MB\n"
     ]
    }
   ],
   "source": [
    "!ssh root@server.powercloud.services -p9876 \"docker rm --force powercloud-web\"\n",
    "!ssh root@server.powercloud.services -p9876 \"docker image prune -f -a\"\n"
   ]
  },
  {
   "cell_type": "code",
   "execution_count": 10,
   "metadata": {
    "vscode": {
     "languageId": "shellscript"
    }
   },
   "outputs": [
    {
     "name": "stdout",
     "output_type": "stream",
     "text": [
      "901d55e3f515d9f92f5911f862c34d9fd72b6fc14e5c8269a9951f0a654cb691\n"
     ]
    },
    {
     "name": "stderr",
     "output_type": "stream",
     "text": [
      "Unable to find image 'server.powercloud.services:5000/powercloud_web:main' locally\n",
      "main: Pulling from powercloud_web\n",
      "c926b61bad3b: Pulling fs layer\n",
      "eb2b0386a1a9: Pulling fs layer\n",
      "b4d0325ab55b: Pulling fs layer\n",
      "0e359aa8f5c8: Pulling fs layer\n",
      "da749af5a43e: Pulling fs layer\n",
      "162ac3c13d00: Pulling fs layer\n",
      "33050add376f: Pulling fs layer\n",
      "92a09ba518de: Pulling fs layer\n",
      "0fe607ec07df: Pulling fs layer\n",
      "73285e607311: Pulling fs layer\n",
      "1ee2a75dc9be: Pulling fs layer\n",
      "44ce36e307a9: Pulling fs layer\n",
      "73285e607311: Waiting\n",
      "1ee2a75dc9be: Waiting\n",
      "33050add376f: Waiting\n",
      "44ce36e307a9: Waiting\n",
      "92a09ba518de: Waiting\n",
      "0fe607ec07df: Waiting\n",
      "0e359aa8f5c8: Waiting\n",
      "da749af5a43e: Waiting\n",
      "162ac3c13d00: Waiting\n",
      "eb2b0386a1a9: Verifying Checksum\n",
      "eb2b0386a1a9: Download complete\n",
      "0e359aa8f5c8: Verifying Checksum\n",
      "0e359aa8f5c8: Download complete\n",
      "da749af5a43e: Verifying Checksum\n",
      "da749af5a43e: Download complete\n",
      "c926b61bad3b: Verifying Checksum\n",
      "c926b61bad3b: Download complete\n",
      "162ac3c13d00: Verifying Checksum\n",
      "162ac3c13d00: Download complete\n",
      "33050add376f: Verifying Checksum\n",
      "33050add376f: Download complete\n",
      "92a09ba518de: Verifying Checksum\n",
      "92a09ba518de: Download complete\n",
      "0fe607ec07df: Verifying Checksum\n",
      "0fe607ec07df: Download complete\n",
      "73285e607311: Verifying Checksum\n",
      "73285e607311: Download complete\n",
      "1ee2a75dc9be: Verifying Checksum\n",
      "1ee2a75dc9be: Download complete\n",
      "44ce36e307a9: Verifying Checksum\n",
      "44ce36e307a9: Download complete\n",
      "c926b61bad3b: Pull complete\n",
      "b4d0325ab55b: Verifying Checksum\n",
      "b4d0325ab55b: Download complete\n",
      "eb2b0386a1a9: Pull complete\n",
      "b4d0325ab55b: Pull complete\n",
      "0e359aa8f5c8: Pull complete\n",
      "da749af5a43e: Pull complete\n",
      "162ac3c13d00: Pull complete\n",
      "33050add376f: Pull complete\n",
      "92a09ba518de: Pull complete\n",
      "0fe607ec07df: Pull complete\n",
      "73285e607311: Pull complete\n",
      "1ee2a75dc9be: Pull complete\n",
      "44ce36e307a9: Pull complete\n",
      "Digest: sha256:ce3d2cb285bb4593de76b1025e6b2e3aec114f99e4d9ca330d9beea1f648bd0c\n",
      "Status: Downloaded newer image for server.powercloud.services:5000/powercloud_web:main\n"
     ]
    }
   ],
   "source": [
    "!ssh root@server.powercloud.services -p9876 \"docker run -d  --restart unless-stopped --name powercloud-web -p7526:8080  server.powercloud.services:5000/powercloud_web:main\""
   ]
  },
  {
   "attachments": {},
   "cell_type": "markdown",
   "metadata": {},
   "source": []
  }
 ],
 "metadata": {
  "kernelspec": {
   "display_name": "Python 3",
   "language": "python",
   "name": "python3"
  },
  "language_info": {
   "codemirror_mode": {
    "name": "ipython",
    "version": 3
   },
   "file_extension": ".py",
   "mimetype": "text/x-python",
   "name": "python",
   "nbconvert_exporter": "python",
   "pygments_lexer": "ipython3",
   "version": "3.10.11"
  },
  "orig_nbformat": 4,
  "vscode": {
   "interpreter": {
    "hash": "f7ad495907005254c8dcaf4e090ce97f62bc92379230cfe15a6ea347c63deb27"
   }
  }
 },
 "nbformat": 4,
 "nbformat_minor": 2
}
